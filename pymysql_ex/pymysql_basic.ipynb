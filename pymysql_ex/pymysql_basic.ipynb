{
 "cells": [
  {
   "cell_type": "markdown",
   "id": "fc11d4f4",
   "metadata": {},
   "source": [
    "# pymysql 실습"
   ]
  },
  {
   "cell_type": "markdown",
   "id": "242351ea",
   "metadata": {},
   "source": [
    "- pip install pymysql을 설치후 하단 실습 실행"
   ]
  },
  {
   "cell_type": "code",
   "execution_count": null,
   "id": "184857ba",
   "metadata": {},
   "outputs": [],
   "source": []
  },
  {
   "cell_type": "code",
   "execution_count": 2,
   "id": "a8a5ea4e",
   "metadata": {},
   "outputs": [],
   "source": [
    "import pymysql"
   ]
  },
  {
   "cell_type": "markdown",
   "id": "b699278b",
   "metadata": {},
   "source": [
    "### 1. DB와 연결\n",
    "- 필요한 정보 : id, pw, host, prt, db"
   ]
  },
  {
   "cell_type": "code",
   "execution_count": 3,
   "id": "781c42c7",
   "metadata": {},
   "outputs": [],
   "source": [
    "# 127.0.0.1 = localhost : 문자로 localhost라고 치면, 컴터는 숫자 형태로 인식한다. 둘다 같음\n",
    "# 336은 mysql의 default 코드 번호\n",
    "# user의 root는 Admin거라서 보통 개발자 계정을 쓰지 admin을 쓰지는 않음. (보안이슈)\n",
    "conn = pymysql.connect(\n",
    "    host='127.0.0.1',\n",
    "    port=3306,\n",
    "    user='jay',\n",
    "    password = '1234',\n",
    "    db ='csm_db',\n",
    "    charset = 'utf8'\n",
    ")"
   ]
  },
  {
   "cell_type": "markdown",
   "id": "e62aa7c0",
   "metadata": {},
   "source": [
    "### 2. DB cursor 생성\n",
    "- 데이터 셔틀버스와 같음\n",
    "- 하단 코드 설명 : cur라는 cursor 객체를 만들었고, cur라는 코드 아래 execute라는 함수가 또 내장되어 있는 것."
   ]
  },
  {
   "cell_type": "code",
   "execution_count": 4,
   "id": "85fc5c99",
   "metadata": {},
   "outputs": [],
   "source": [
    "cur = conn.cursor()"
   ]
  },
  {
   "cell_type": "code",
   "execution_count": 5,
   "id": "decffb4f",
   "metadata": {},
   "outputs": [
    {
     "data": {
      "text/plain": [
       "0"
      ]
     },
     "execution_count": 5,
     "metadata": {},
     "output_type": "execute_result"
    }
   ],
   "source": [
    "cur.execute(\"drop table if exists items\")"
   ]
  },
  {
   "cell_type": "markdown",
   "id": "7c24b7ca",
   "metadata": {},
   "source": [
    "### 3. sql 명령 실행\n",
    "* 대문자 쓰는 건 개발자들 사이에서 가독성을 위한 관행 같은 것\n",
    "- CREATE TABLE IF NOT EXISTS라는 조건이 없으면 재실행 시 오류"
   ]
  },
  {
   "cell_type": "code",
   "execution_count": 6,
   "id": "505ea614",
   "metadata": {},
   "outputs": [],
   "source": [
    "# items 테이블 만들기\n",
    "CREATE_SQL =\"\"\"\n",
    "CREATE TABLE IF NOT EXISTS items(\n",
    "    id INTEGER PRIMARY KEY AUTO_INCREMENT,\n",
    "    code TEXT NOT NULL,\n",
    "    name TEXT NOT NULL,\n",
    "    price INTEGER NULL\n",
    ")\n",
    "\n",
    "\"\"\"\n",
    "cur.execute(CREATE_SQL);"
   ]
  },
  {
   "cell_type": "markdown",
   "id": "da648737",
   "metadata": {},
   "source": [
    "#### 데이터 입력 (Create)"
   ]
  },
  {
   "cell_type": "code",
   "execution_count": 7,
   "id": "b9a496b1",
   "metadata": {},
   "outputs": [
    {
     "data": {
      "text/plain": [
       "1"
      ]
     },
     "execution_count": 7,
     "metadata": {},
     "output_type": "execute_result"
    }
   ],
   "source": [
    "#insert_sql이라는 함수를 새로 정의하여서,\n",
    "#기존에 insert into [db]라는 명령어를 반복 실행 했던 것을 간단하게 입력값만 넣음으로서, 수행하도록 하는 방법\n",
    "# VALUES(%s, %s, %s) < 여기서 %s 이거는 데이터가 저장될 위치\n",
    "insert_sql = \"\"\"\n",
    "INSERT INTO items(code, name, price)\n",
    "    VALUES(%s, %s, %s);\n",
    "\"\"\"\n",
    "\n",
    "cur.execute(insert_sql, ('A001','TV',1000000))\n",
    "\n",
    "#근데 이렇게 실행해도 db에 보이지는 않는게 보임. 왜냐? 이 창 역시도 개인 인벤토리 상태(메모리에만 저장)이기 때문.\n",
    "#실행까지는 했다면, 이것을 반영하는 것이 중요"
   ]
  },
  {
   "cell_type": "code",
   "execution_count": 8,
   "id": "458d7c9c",
   "metadata": {},
   "outputs": [],
   "source": [
    "#DB 변경사항 저장, 반영은 pymysql.connect의 단계에서 수행하는 것\n",
    "conn.commit()"
   ]
  },
  {
   "cell_type": "code",
   "execution_count": 9,
   "id": "c6ea9a2b",
   "metadata": {},
   "outputs": [
    {
     "data": {
      "text/plain": [
       "3"
      ]
     },
     "execution_count": 9,
     "metadata": {},
     "output_type": "execute_result"
    }
   ],
   "source": [
    "# 여러개의 record를 한꺼번에 입력/추가하기\n",
    "datas = (\n",
    "    ('A0002', '에어컨 30평형', 2000000),\n",
    "    ('A0003', '최신형 스마트폰', 1000000),\n",
    "    ('A0004', '최신형 노트북', 500000)\n",
    ")\n",
    "cur.executemany(insert_sql, datas)\n",
    "# 결과값의 '3'은 record 3개가 들어왔어~라는 뜻"
   ]
  },
  {
   "cell_type": "code",
   "execution_count": 10,
   "id": "57e7d7bc",
   "metadata": {},
   "outputs": [],
   "source": [
    "#DB 변경사항 저장, 반영은 pymysql.connect의 단계에서 수행하는 것\n",
    "conn.commit()"
   ]
  },
  {
   "cell_type": "markdown",
   "id": "19551aa9",
   "metadata": {},
   "source": [
    "#### 데이터 읽기 (Read)"
   ]
  },
  {
   "cell_type": "code",
   "execution_count": 11,
   "id": "4be6f311",
   "metadata": {},
   "outputs": [
    {
     "data": {
      "text/plain": [
       "4"
      ]
     },
     "execution_count": 11,
     "metadata": {},
     "output_type": "execute_result"
    }
   ],
   "source": [
    "# select문\n",
    "select_sql1 = \"select * from items\"\n",
    "cur.execute(select_sql1)"
   ]
  },
  {
   "cell_type": "code",
   "execution_count": 12,
   "id": "9a3d5c33",
   "metadata": {},
   "outputs": [],
   "source": [
    "#cursor가 db와의 셔틀버스 역할을 한다면, \n",
    "# fetch는 db에서 조회(커리)한 결과를 확인하기 위해 fetch 수행\n",
    "rows = cur.fetchall()"
   ]
  },
  {
   "cell_type": "code",
   "execution_count": 13,
   "id": "8eb27106",
   "metadata": {},
   "outputs": [
    {
     "data": {
      "text/plain": [
       "((1, 'A001', 'TV', 1000000),\n",
       " (2, 'A0002', '에어컨 30평형', 2000000),\n",
       " (3, 'A0003', '최신형 스마트폰', 1000000),\n",
       " (4, 'A0004', '최신형 노트북', 500000))"
      ]
     },
     "execution_count": 13,
     "metadata": {},
     "output_type": "execute_result"
    }
   ],
   "source": [
    "rows\n",
    "#수행해보니 결과 확인 = 이중 튜플로 저장되어 있음"
   ]
  },
  {
   "cell_type": "code",
   "execution_count": 14,
   "id": "86d83501",
   "metadata": {},
   "outputs": [
    {
     "name": "stdout",
     "output_type": "stream",
     "text": [
      "(1, 'A001', 'TV', 1000000)\n",
      "(2, 'A0002', '에어컨 30평형', 2000000)\n",
      "(3, 'A0003', '최신형 스마트폰', 1000000)\n",
      "(4, 'A0004', '최신형 노트북', 500000)\n"
     ]
    }
   ],
   "source": [
    "#하나씩 보기 위한 for문 처리\n",
    "for idx, row in enumerate(rows):\n",
    "    print(row)"
   ]
  },
  {
   "cell_type": "code",
   "execution_count": 15,
   "id": "2fb0bd24",
   "metadata": {},
   "outputs": [
    {
     "name": "stdout",
     "output_type": "stream",
     "text": [
      "1 번째 - ('A001', 'TV', 1000000)\n",
      "2 번째 - ('A0002', '에어컨 30평형', 2000000)\n",
      "3 번째 - ('A0003', '최신형 스마트폰', 1000000)\n",
      "4 번째 - ('A0004', '최신형 노트북', 500000)\n"
     ]
    }
   ],
   "source": [
    "for idx, row in enumerate(rows):\n",
    "    print(f\"{idx+1} 번째 - {row[1:]}\")"
   ]
  },
  {
   "cell_type": "code",
   "execution_count": 16,
   "id": "a2fa33ed",
   "metadata": {},
   "outputs": [
    {
     "data": {
      "text/plain": [
       "3"
      ]
     },
     "execution_count": 16,
     "metadata": {},
     "output_type": "execute_result"
    }
   ],
   "source": [
    "#select문, 2개의 레코드\n",
    "select_sql1 = \"select * from items limit 3\"\n",
    "cur.execute(select_sql1)"
   ]
  },
  {
   "cell_type": "code",
   "execution_count": 17,
   "id": "57e09607",
   "metadata": {},
   "outputs": [
    {
     "data": {
      "text/plain": [
       "((1, 'A001', 'TV', 1000000),\n",
       " (2, 'A0002', '에어컨 30평형', 2000000),\n",
       " (3, 'A0003', '최신형 스마트폰', 1000000))"
      ]
     },
     "execution_count": 17,
     "metadata": {},
     "output_type": "execute_result"
    }
   ],
   "source": [
    "rows = cur.fetchall()\n",
    "rows"
   ]
  },
  {
   "cell_type": "code",
   "execution_count": 18,
   "id": "9f983d5f",
   "metadata": {},
   "outputs": [
    {
     "data": {
      "text/plain": [
       "()"
      ]
     },
     "execution_count": 18,
     "metadata": {},
     "output_type": "execute_result"
    }
   ],
   "source": [
    "cur.fetchall()\n",
    "# 다시 fetch만 단독 실행하면, 아무것도 출력 X\n",
    "# fetchall은 한번 수행하면 fetch가 저장된 공간의 데이터는 비워진다."
   ]
  },
  {
   "cell_type": "markdown",
   "id": "902fc712",
   "metadata": {},
   "source": [
    "- fetchall()의 목적 : 데이터베이스와 python 사이의 다리 역할\n",
    "[데이터베이스] ----SQL 쿼리----> [데이터베이스 서버]<br>\n",
    "                                      ↓ (결과 생성)<br>\n",
    "                                   [결과 집합]<br>\n",
    "                                      ↓<br>\n",
    "[Python 프로그램] <--fetchall()--- [커서(cursor)]<br>\n",
    "\n",
    "왜 필요한가?\n",
    "* SQL 쿼리를 실행(execute())하는 것과 결과를 가져오는 것은 별도의 작업\n",
    "* execute()를 실행하면 데이터베이스 서버가 결과를 만듬\n",
    "* 하지만 python으로는 전송되지 않고, cursor가 결과의 첫번째 행을 가리키고 있음\n",
    "* 실행 후 데이터베이스 서버의 상태 :<br>\n",
    "┌─────────────────┐<br>\n",
    "│  Result Set     │  ← execute() 실행 후 여기 생성됨<br>\n",
    "│  ┌───┬───┬───┐ │<br>\n",
    "│  │ 1 │ A │ X │ │<br>  \n",
    "│  │ 2 │ B │ Y │ │<br>  \n",
    "│  │ 3 │ C │ Z │ │<br>  \n",
    "│  └───┴───┴───┘ │<br>\n",
    "│       ↑         │<br>\n",
    "│    커서 포인터   │<br>\n",
    "└─────────────────┘<br>\n",
    "\n",
    "이때 fetchall()을 동작시켜서, \n",
    "1. 데이터베이스 서버에 \"모든 행 보내줘!\" 요청\n",
    "2. 서버가 네트워크를 통해 데이터 전송\n",
    "3. Python 메모리에 리스트로 저장\n",
    "4. 커서 포인터가 결과 끝으로 이동\n",
    "\n",
    "굳이 execute()와 분리된 이유? 효율성과 유연성 때문!\n",
    "- execute는 메모리를 많이 사용하지만, 필요한 만큼만 실행시키면 메모리 절약이 가능\n",
    "\n",
    "요약\n",
    "**단계 / 무슨 일? / 데이터**\n",
    "* 위치execute() / SQL 실행 / 데이터베이스 서버 메모리\n",
    "* fetchall() / 결과 전송 요청 / Python 프로그램 메모리\n"
   ]
  },
  {
   "cell_type": "markdown",
   "id": "22113cbe",
   "metadata": {},
   "source": [
    "#### update"
   ]
  },
  {
   "cell_type": "code",
   "execution_count": 19,
   "id": "90b80f98",
   "metadata": {},
   "outputs": [
    {
     "data": {
      "text/plain": [
       "1"
      ]
     },
     "execution_count": 19,
     "metadata": {},
     "output_type": "execute_result"
    }
   ],
   "source": [
    "update_sql = \"\"\"\n",
    "UPDATE items\n",
    "SET price = %s\n",
    "WHERE code = %s\n",
    "\"\"\"\n",
    "\n",
    "# UPDATE문(U)\n",
    "price = 1500000\n",
    "code = 'A001'\n",
    "cur.execute(update_sql, (price, code))"
   ]
  },
  {
   "cell_type": "code",
   "execution_count": 20,
   "id": "a1a462d8",
   "metadata": {},
   "outputs": [],
   "source": [
    "conn.commit()"
   ]
  },
  {
   "cell_type": "code",
   "execution_count": 21,
   "id": "106098bd",
   "metadata": {},
   "outputs": [
    {
     "data": {
      "text/plain": [
       "1"
      ]
     },
     "execution_count": 21,
     "metadata": {},
     "output_type": "execute_result"
    }
   ],
   "source": [
    "# id가 2인 데이터 list에 price의 record를 2500000으로 변경\n",
    "update_sql_price = \"\"\"\n",
    "UPDATE items\n",
    "SET price = %s\n",
    "WHERE id = %s\n",
    "\"\"\"\n",
    "\n",
    "cur.execute(update_sql_price,(2500000,2))"
   ]
  },
  {
   "cell_type": "code",
   "execution_count": 22,
   "id": "43a4fbe7",
   "metadata": {},
   "outputs": [],
   "source": [
    "conn.commit()"
   ]
  },
  {
   "cell_type": "markdown",
   "id": "51243d0f",
   "metadata": {},
   "source": [
    "#### 데이터 삭제 delete"
   ]
  },
  {
   "cell_type": "code",
   "execution_count": 23,
   "id": "0bc9155d",
   "metadata": {},
   "outputs": [
    {
     "data": {
      "text/plain": [
       "1"
      ]
     },
     "execution_count": 23,
     "metadata": {},
     "output_type": "execute_result"
    }
   ],
   "source": [
    "delete_sql = \"\"\"\n",
    "DELETE FROM items\n",
    "WHERE code = %s\n",
    "\"\"\"\n",
    "\n",
    "cur.execute(delete_sql,'A0003')"
   ]
  },
  {
   "cell_type": "code",
   "execution_count": 54,
   "id": "928c6397",
   "metadata": {},
   "outputs": [],
   "source": [
    "conn.commit()"
   ]
  },
  {
   "cell_type": "markdown",
   "id": "877d04da",
   "metadata": {},
   "source": [
    "### 4. commit, rollback 실행\n",
    "- insert, update, delete sql을 실행했을 경우에는 반드시 실행해야 db에 반영됨"
   ]
  },
  {
   "cell_type": "markdown",
   "id": "ebfae690",
   "metadata": {},
   "source": [
    "### 5. DB close()\n",
    "- 데이터 처리를 위해 연결한 DB연결 자원을 반환함."
   ]
  },
  {
   "cell_type": "code",
   "execution_count": 41,
   "id": "f6ef793b",
   "metadata": {},
   "outputs": [
    {
     "data": {
      "text/plain": [
       "1"
      ]
     },
     "execution_count": 41,
     "metadata": {},
     "output_type": "execute_result"
    }
   ],
   "source": [
    "# 데이터 생성하기\n",
    "# code A\n",
    "insert_sql = \"\"\"\n",
    "INSERT INTO items(code, name, price)\n",
    "    VALUES(%s, %s, %s)\n",
    "\"\"\"\n",
    "\n",
    "cur.execute(insert_sql, ('A006','스타일러',3500000))\n",
    "\n",
    "cur.execute(insert_sql, ('A005','로봇청소기',1000000))"
   ]
  },
  {
   "cell_type": "code",
   "execution_count": 42,
   "id": "dd3f025e",
   "metadata": {},
   "outputs": [
    {
     "data": {
      "text/plain": [
       "((1, 'A001', 'TV', 1500000),\n",
       " (2, 'A0002', '에어컨 30평형', 2500000),\n",
       " (4, 'A0004', '최신형 노트북', 500000),\n",
       " (7, 'A0005', '로봇청소기', 1000000),\n",
       " (8, 'A0006', '스타일러', 7000000),\n",
       " (9, 'A006', '스타일러', 3500000),\n",
       " (10, 'A005', '로봇청소기', 1000000),\n",
       " (11, 'A006', '스타일러', 3500000),\n",
       " (12, 'A005', '로봇청소기', 1000000),\n",
       " (13, 'A006', '스타일러', 3500000),\n",
       " (14, 'A005', '로봇청소기', 1000000),\n",
       " (15, 'A006', '스타일러', 3500000),\n",
       " (16, 'A005', '로봇청소기', 1000000))"
      ]
     },
     "execution_count": 42,
     "metadata": {},
     "output_type": "execute_result"
    }
   ],
   "source": [
    "select_sql1 = \"select * from items\"\n",
    "cur.execute(select_sql1)\n",
    "rows = cur.fetchall()\n",
    "rows"
   ]
  },
  {
   "cell_type": "code",
   "execution_count": 45,
   "id": "05ebe29d",
   "metadata": {},
   "outputs": [],
   "source": [
    "conn.rollback()"
   ]
  },
  {
   "cell_type": "markdown",
   "id": "b58db66f",
   "metadata": {},
   "source": []
  },
  {
   "cell_type": "code",
   "execution_count": 55,
   "id": "b4e43c09",
   "metadata": {},
   "outputs": [
    {
     "data": {
      "text/plain": [
       "((1, 'A001', 'TV', 1500000),\n",
       " (2, 'A0002', '에어컨 30평형', 2500000),\n",
       " (4, 'A0004', '최신형 노트북', 500000),\n",
       " (7, 'A0005', '로봇청소기', 1000000),\n",
       " (8, 'A0006', '스타일러', 7000000))"
      ]
     },
     "execution_count": 55,
     "metadata": {},
     "output_type": "execute_result"
    }
   ],
   "source": [
    "select_sql1 = \"select * from items\"\n",
    "cur.execute(select_sql1)\n",
    "rows = cur.fetchall()\n",
    "rows"
   ]
  },
  {
   "cell_type": "code",
   "execution_count": null,
   "id": "15a45707",
   "metadata": {},
   "outputs": [],
   "source": []
  }
 ],
 "metadata": {
  "kernelspec": {
   "display_name": "llm_env",
   "language": "python",
   "name": "python3"
  },
  "language_info": {
   "codemirror_mode": {
    "name": "ipython",
    "version": 3
   },
   "file_extension": ".py",
   "mimetype": "text/x-python",
   "name": "python",
   "nbconvert_exporter": "python",
   "pygments_lexer": "ipython3",
   "version": "3.10.19"
  }
 },
 "nbformat": 4,
 "nbformat_minor": 5
}
